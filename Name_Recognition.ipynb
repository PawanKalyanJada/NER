{
  "nbformat": 4,
  "nbformat_minor": 0,
  "metadata": {
    "colab": {
      "name": "Name Recognition.ipynb",
      "provenance": [],
      "collapsed_sections": [],
      "authorship_tag": "ABX9TyOEf8D5OQ3szWmoZsTI1/WE",
      "include_colab_link": true
    },
    "kernelspec": {
      "name": "python3",
      "display_name": "Python 3"
    }
  },
  "cells": [
    {
      "cell_type": "markdown",
      "metadata": {
        "id": "view-in-github",
        "colab_type": "text"
      },
      "source": [
        "<a href=\"https://colab.research.google.com/github/PawanKalyanJada/NER/blob/main/Name_Recognition.ipynb\" target=\"_parent\"><img src=\"https://colab.research.google.com/assets/colab-badge.svg\" alt=\"Open In Colab\"/></a>"
      ]
    },
    {
      "cell_type": "code",
      "metadata": {
        "id": "KIUbKv_Vimsj"
      },
      "source": [
        "f=open('/content/contentgrive/MyDrive/sentences.txt') "
      ],
      "execution_count": null,
      "outputs": []
    },
    {
      "cell_type": "code",
      "metadata": {
        "id": "LB2D21uMjJTn"
      },
      "source": [
        "l=(f.readlines())"
      ],
      "execution_count": null,
      "outputs": []
    },
    {
      "cell_type": "code",
      "metadata": {
        "colab": {
          "base_uri": "https://localhost:8080/",
          "height": 36
        },
        "id": "wMMTMzR5jtD9",
        "outputId": "2ef0bf39-412d-47a3-a022-4635d0168b4d"
      },
      "source": [
        "l[59]"
      ],
      "execution_count": null,
      "outputs": [
        {
          "output_type": "execute_result",
          "data": {
            "application/vnd.google.colaboratory.intrinsic+json": {
              "type": "string"
            },
            "text/plain": [
              "'Critics of Halliburton include auditors and congressional Democrats .\\n'"
            ]
          },
          "metadata": {
            "tags": []
          },
          "execution_count": 25
        }
      ]
    },
    {
      "cell_type": "code",
      "metadata": {
        "id": "WbfL97T-kNdk"
      },
      "source": [
        "f1=open('/content/contentgrive/MyDrive/labels.txt')\n",
        "l1=f1.readlines()"
      ],
      "execution_count": null,
      "outputs": []
    },
    {
      "cell_type": "code",
      "metadata": {
        "colab": {
          "base_uri": "https://localhost:8080/",
          "height": 36
        },
        "id": "KSOMOhIgkgAl",
        "outputId": "6bfdc749-52ca-41e6-b693-58e82571e88d"
      },
      "source": [
        "l1[59]"
      ],
      "execution_count": null,
      "outputs": [
        {
          "output_type": "execute_result",
          "data": {
            "application/vnd.google.colaboratory.intrinsic+json": {
              "type": "string"
            },
            "text/plain": [
              "'O O B-org O O O O O O\\n'"
            ]
          },
          "metadata": {
            "tags": []
          },
          "execution_count": 27
        }
      ]
    },
    {
      "cell_type": "code",
      "metadata": {
        "id": "YBStPo-1khyg"
      },
      "source": [
        "d={'O': 0, 'B-geo': 1, 'B-gpe': 2, 'B-per': 3, 'I-geo': 4, 'B-org': 5, 'I-org': 6, 'B-tim': 7, 'B-art': 8, 'I-art': 9, 'I-per': 10, 'I-gpe': 11, 'I-tim': 12, 'B-nat': 13, 'B-eve': 14, 'I-eve': 15, 'I-nat': 16}"
      ],
      "execution_count": null,
      "outputs": []
    },
    {
      "cell_type": "code",
      "metadata": {
        "id": "Bap_WNN6lOas"
      },
      "source": [
        "for i in d:\n",
        "  d[i]+=1"
      ],
      "execution_count": null,
      "outputs": []
    },
    {
      "cell_type": "code",
      "metadata": {
        "colab": {
          "base_uri": "https://localhost:8080/"
        },
        "id": "AYl5akEClSOn",
        "outputId": "95ebc1f9-a2f5-4024-e7f1-561f07ec3c74"
      },
      "source": [
        "d"
      ],
      "execution_count": null,
      "outputs": [
        {
          "output_type": "execute_result",
          "data": {
            "text/plain": [
              "{'B-art': 9,\n",
              " 'B-eve': 15,\n",
              " 'B-geo': 2,\n",
              " 'B-gpe': 3,\n",
              " 'B-nat': 14,\n",
              " 'B-org': 6,\n",
              " 'B-per': 4,\n",
              " 'B-tim': 8,\n",
              " 'I-art': 10,\n",
              " 'I-eve': 16,\n",
              " 'I-geo': 5,\n",
              " 'I-gpe': 12,\n",
              " 'I-nat': 17,\n",
              " 'I-org': 7,\n",
              " 'I-per': 11,\n",
              " 'I-tim': 13,\n",
              " 'O': 1}"
            ]
          },
          "metadata": {
            "tags": []
          },
          "execution_count": 30
        }
      ]
    },
    {
      "cell_type": "code",
      "metadata": {
        "colab": {
          "base_uri": "https://localhost:8080/"
        },
        "id": "awkPTtgXlSne",
        "outputId": "a8e01c8c-578b-4375-ddd3-4b4dfbb2b707"
      },
      "source": [
        "c=0\n",
        "for i in l:\n",
        "  if(i.startswith('The 41st')):\n",
        "    print(c)\n",
        "    break\n",
        "  c+=1"
      ],
      "execution_count": null,
      "outputs": [
        {
          "output_type": "stream",
          "text": [
            "310\n"
          ],
          "name": "stdout"
        }
      ]
    },
    {
      "cell_type": "code",
      "metadata": {
        "colab": {
          "base_uri": "https://localhost:8080/"
        },
        "id": "fLFDvHMal3T3",
        "outputId": "e2f2cb53-0563-4937-bd21-0eaa0f9e30aa"
      },
      "source": [
        "(l[4].split())"
      ],
      "execution_count": null,
      "outputs": [
        {
          "output_type": "execute_result",
          "data": {
            "text/plain": [
              "['the',\n",
              " 'protest',\n",
              " 'comes',\n",
              " 'on',\n",
              " 'the',\n",
              " 'eve',\n",
              " 'of',\n",
              " 'the',\n",
              " 'annual',\n",
              " 'conference',\n",
              " 'of',\n",
              " 'britain',\n",
              " \"'s\",\n",
              " 'ruling',\n",
              " 'labor',\n",
              " 'party',\n",
              " 'in',\n",
              " 'the',\n",
              " 'southern',\n",
              " 'english',\n",
              " 'seaside',\n",
              " 'resort',\n",
              " 'of',\n",
              " 'brighton',\n",
              " '.']"
            ]
          },
          "metadata": {
            "tags": []
          },
          "execution_count": 61
        }
      ]
    },
    {
      "cell_type": "code",
      "metadata": {
        "colab": {
          "base_uri": "https://localhost:8080/"
        },
        "id": "zRBLtSjynGDz",
        "outputId": "69ee2f54-de1d-4e12-a272-b0880b4e3f9a"
      },
      "source": [
        "(l1[4].split())"
      ],
      "execution_count": null,
      "outputs": [
        {
          "output_type": "execute_result",
          "data": {
            "text/plain": [
              "['o',\n",
              " 'o',\n",
              " 'o',\n",
              " 'o',\n",
              " 'o',\n",
              " 'o',\n",
              " 'o',\n",
              " 'o',\n",
              " 'o',\n",
              " 'o',\n",
              " 'o',\n",
              " 'b-geo',\n",
              " 'o',\n",
              " 'o',\n",
              " 'b-org',\n",
              " 'i-org',\n",
              " 'o',\n",
              " 'o',\n",
              " 'o',\n",
              " 'b-gpe',\n",
              " 'o',\n",
              " 'o',\n",
              " 'o',\n",
              " 'b-geo',\n",
              " 'o']"
            ]
          },
          "metadata": {
            "tags": []
          },
          "execution_count": 62
        }
      ]
    },
    {
      "cell_type": "code",
      "metadata": {
        "id": "sau445FUnHEs"
      },
      "source": [
        "for i in range(len(l)):\n",
        "  l[i]=l[i].lower()\n",
        "for i in range(len(l1)):\n",
        "  l1[i]=l1[i].lower()"
      ],
      "execution_count": null,
      "outputs": []
    },
    {
      "cell_type": "code",
      "metadata": {
        "id": "Nyq2XxSMqPuo"
      },
      "source": [
        "v={}\n",
        "c=2\n",
        "for i in range(len(l)):\n",
        "  p=l[i].split()\n",
        "  for j in p:\n",
        "    if(not(j in v)):\n",
        "      v[j]=c\n",
        "      c+=1"
      ],
      "execution_count": null,
      "outputs": []
    },
    {
      "cell_type": "code",
      "metadata": {
        "colab": {
          "base_uri": "https://localhost:8080/"
        },
        "id": "v2Hc_u-arD3m",
        "outputId": "a4a1f8e2-96a1-4a9e-caaa-2f74a2c66e82"
      },
      "source": [
        "v"
      ],
      "execution_count": null,
      "outputs": [
        {
          "output_type": "execute_result",
          "data": {
            "text/plain": [
              "{'thousands': 2,\n",
              " 'of': 3,\n",
              " 'demonstrators': 4,\n",
              " 'have': 5,\n",
              " 'marched': 6,\n",
              " 'through': 7,\n",
              " 'london': 8,\n",
              " 'to': 9,\n",
              " 'protest': 10,\n",
              " 'the': 11,\n",
              " 'war': 12,\n",
              " 'in': 13,\n",
              " 'iraq': 14,\n",
              " 'and': 15,\n",
              " 'demand': 16,\n",
              " 'withdrawal': 17,\n",
              " 'british': 18,\n",
              " 'troops': 19,\n",
              " 'from': 20,\n",
              " 'that': 21,\n",
              " 'country': 22,\n",
              " '.': 23,\n",
              " 'families': 24,\n",
              " 'soldiers': 25,\n",
              " 'killed': 26,\n",
              " 'conflict': 27,\n",
              " 'joined': 28,\n",
              " 'protesters': 29,\n",
              " 'who': 30,\n",
              " 'carried': 31,\n",
              " 'banners': 32,\n",
              " 'with': 33,\n",
              " 'such': 34,\n",
              " 'slogans': 35,\n",
              " 'as': 36,\n",
              " '\"': 37,\n",
              " 'bush': 38,\n",
              " 'number': 39,\n",
              " 'one': 40,\n",
              " 'terrorist': 41,\n",
              " 'stop': 42,\n",
              " 'bombings': 43,\n",
              " 'they': 44,\n",
              " 'houses': 45,\n",
              " 'parliament': 46,\n",
              " 'a': 47,\n",
              " 'rally': 48,\n",
              " 'hyde': 49,\n",
              " 'park': 50,\n",
              " 'police': 51,\n",
              " 'put': 52,\n",
              " 'marchers': 53,\n",
              " 'at': 54,\n",
              " '10,000': 55,\n",
              " 'while': 56,\n",
              " 'organizers': 57,\n",
              " 'claimed': 58,\n",
              " 'it': 59,\n",
              " 'was': 60,\n",
              " '1,00,000': 61,\n",
              " 'comes': 62,\n",
              " 'on': 63,\n",
              " 'eve': 64,\n",
              " 'annual': 65,\n",
              " 'conference': 66,\n",
              " 'britain': 67,\n",
              " \"'s\": 68,\n",
              " 'ruling': 69,\n",
              " 'labor': 70,\n",
              " 'party': 71,\n",
              " 'southern': 72,\n",
              " 'english': 73,\n",
              " 'seaside': 74,\n",
              " 'resort': 75,\n",
              " 'brighton': 76,\n",
              " 'is': 77,\n",
              " 'divided': 78,\n",
              " 'over': 79,\n",
              " 'participation': 80,\n",
              " 'continued': 81,\n",
              " 'deployment': 82,\n",
              " '8,500': 83,\n",
              " 'march': 84,\n",
              " 'came': 85,\n",
              " 'ahead': 86,\n",
              " 'anti-war': 87,\n",
              " 'protests': 88,\n",
              " 'today': 89,\n",
              " 'other': 90,\n",
              " 'cities': 91,\n",
              " ',': 92,\n",
              " 'including': 93,\n",
              " 'rome': 94,\n",
              " 'paris': 95,\n",
              " 'madrid': 96,\n",
              " 'international': 97,\n",
              " 'atomic': 98,\n",
              " 'energy': 99,\n",
              " 'agency': 100,\n",
              " 'hold': 101,\n",
              " 'second': 102,\n",
              " 'day': 103,\n",
              " 'talks': 104,\n",
              " 'vienna': 105,\n",
              " 'wednesday': 106,\n",
              " 'how': 107,\n",
              " 'respond': 108,\n",
              " 'iran': 109,\n",
              " 'resumption': 110,\n",
              " 'low-level': 111,\n",
              " 'uranium': 112,\n",
              " 'conversion': 113,\n",
              " 'this': 114,\n",
              " 'week': 115,\n",
              " 'restarted': 116,\n",
              " 'parts': 117,\n",
              " 'process': 118,\n",
              " 'its': 119,\n",
              " 'isfahan': 120,\n",
              " 'nuclear': 121,\n",
              " 'plant': 122,\n",
              " 'iranian': 123,\n",
              " 'officials': 124,\n",
              " 'say': 125,\n",
              " 'expect': 126,\n",
              " 'get': 127,\n",
              " 'access': 128,\n",
              " 'sealed': 129,\n",
              " 'sensitive': 130,\n",
              " 'after': 131,\n",
              " 'an': 132,\n",
              " 'iaea': 133,\n",
              " 'surveillance': 134,\n",
              " 'system': 135,\n",
              " 'begins': 136,\n",
              " 'functioning': 137,\n",
              " 'step': 138,\n",
              " 'will': 139,\n",
              " 'allow': 140,\n",
              " 'facility': 141,\n",
              " 'operate': 142,\n",
              " 'full': 143,\n",
              " 'capacity': 144,\n",
              " 'european': 145,\n",
              " 'union': 146,\n",
              " 'u.s.': 147,\n",
              " 'backing': 148,\n",
              " 'has': 149,\n",
              " 'threatened': 150,\n",
              " 'refer': 151,\n",
              " 'u.n.': 152,\n",
              " 'security': 153,\n",
              " 'council': 154,\n",
              " 'which': 155,\n",
              " 'could': 156,\n",
              " 'impose': 157,\n",
              " 'sanctions': 158,\n",
              " 'if': 159,\n",
              " 'finds': 160,\n",
              " 'tehran': 161,\n",
              " 'violated': 162,\n",
              " 'non-proliferation': 163,\n",
              " 'treaty': 164,\n",
              " 'new': 165,\n",
              " 'president': 166,\n",
              " 'mahmoud': 167,\n",
              " 'ahmadinejad': 168,\n",
              " 'said': 169,\n",
              " 'tuesday': 170,\n",
              " 'incentives': 171,\n",
              " 'aimed': 172,\n",
              " 'persuading': 173,\n",
              " 'end': 174,\n",
              " 'fuel': 175,\n",
              " 'program': 176,\n",
              " 'are': 177,\n",
              " 'insult': 178,\n",
              " 'nation': 179,\n",
              " 'two': 180,\n",
              " 'germans': 181,\n",
              " 'four': 182,\n",
              " 'nigerian': 183,\n",
              " 'oil': 184,\n",
              " 'workers': 185,\n",
              " 'were': 186,\n",
              " 'kidnapped': 187,\n",
              " 'by': 188,\n",
              " 'armed': 189,\n",
              " 'militants': 190,\n",
              " 'during': 191,\n",
              " 'raid': 192,\n",
              " 'boat': 193,\n",
              " 'nigeria': 194,\n",
              " 'oil-rich': 195,\n",
              " 'delta': 196,\n",
              " 'region': 197,\n",
              " 'official': 198,\n",
              " 'german': 199,\n",
              " 'firm': 200,\n",
              " 'bilfinger': 201,\n",
              " 'berger': 202,\n",
              " 'thomas': 203,\n",
              " 'horbach': 204,\n",
              " 'gunmen': 205,\n",
              " 'stopped': 206,\n",
              " 'supply': 207,\n",
              " 'sailed': 208,\n",
              " 'state': 209,\n",
              " 'bayelsa': 210,\n",
              " 'inspect': 211,\n",
              " 'offshore': 212,\n",
              " 'field': 213,\n",
              " 'owned': 214,\n",
              " 'royal-dutch': 215,\n",
              " 'shell': 216,\n",
              " 'works': 217,\n",
              " 'sub-contractor': 218,\n",
              " 'for': 219,\n",
              " 'militant': 220,\n",
              " 'groups': 221,\n",
              " 'frequently': 222,\n",
              " 'attack': 223,\n",
              " 'operations': 224,\n",
              " 'niger': 225,\n",
              " 'social': 226,\n",
              " 'services': 227,\n",
              " 'better': 228,\n",
              " 'job': 229,\n",
              " 'opportunities': 230,\n",
              " 'multinational': 231,\n",
              " 'companies': 232,\n",
              " 'poor': 233,\n",
              " 'residents': 234,\n",
              " 'often': 235,\n",
              " 'complain': 236,\n",
              " 'been': 237,\n",
              " 'cheated': 238,\n",
              " 'out': 239,\n",
              " 'huge': 240,\n",
              " 'riches': 241,\n",
              " 'extracted': 242,\n",
              " 'their': 243,\n",
              " 'tribal': 244,\n",
              " 'lands': 245,\n",
              " '-': 246,\n",
              " 'where': 247,\n",
              " 'bulk': 248,\n",
              " '2.3': 249,\n",
              " 'million': 250,\n",
              " 'barrels': 251,\n",
              " 'petroleum': 252,\n",
              " 'pumped': 253,\n",
              " 'daily': 254,\n",
              " 'suspected': 255,\n",
              " 'islamist': 256,\n",
              " 'rebels': 257,\n",
              " 'fired': 258,\n",
              " 'mortar': 259,\n",
              " 'shells': 260,\n",
              " 'palace': 261,\n",
              " 'used': 262,\n",
              " 'somalia': 263,\n",
              " 'interim': 264,\n",
              " 'abdullahi': 265,\n",
              " 'yusuf': 266,\n",
              " 'ahmad': 267,\n",
              " 'not': 268,\n",
              " 'immediately': 269,\n",
              " 'clear': 270,\n",
              " 'mogadishu': 271,\n",
              " 'when': 272,\n",
              " 'occurred': 273,\n",
              " 'or': 274,\n",
              " 'anyone': 275,\n",
              " 'hurt': 276,\n",
              " 'local': 277,\n",
              " 'news': 278,\n",
              " 'reports': 279,\n",
              " 'least': 280,\n",
              " 'five': 281,\n",
              " 'hit': 282,\n",
              " 'compound': 283,\n",
              " 'mortars': 284,\n",
              " 'elsewhere': 285,\n",
              " 'attacks': 286,\n",
              " 'government': 287,\n",
              " 'go': 288,\n",
              " 'reconciliation': 289,\n",
              " 'more': 290,\n",
              " 'than': 291,\n",
              " '1,300': 292,\n",
              " 'somali': 293,\n",
              " 'elders': 294,\n",
              " 'warlords': 295,\n",
              " 'politicians': 296,\n",
              " 'invited': 297,\n",
              " 'iraqi': 298,\n",
              " 'military': 299,\n",
              " 'tanks': 300,\n",
              " 'arrived': 301,\n",
              " 'northern': 302,\n",
              " 'city': 303,\n",
              " 'mosul': 304,\n",
              " 'offensive': 305,\n",
              " 'against': 306,\n",
              " 'al': 307,\n",
              " 'qaida': 308,\n",
              " 'fighters': 309,\n",
              " 'many': 310,\n",
              " 'sunni': 311,\n",
              " 'arab': 312,\n",
              " 'kurdish': 313,\n",
              " 'last': 314,\n",
              " '34': 315,\n",
              " 'people': 316,\n",
              " 'wounded': 317,\n",
              " '200': 318,\n",
              " 'commanders': 319,\n",
              " 'explained': 320,\n",
              " 'american': 321,\n",
              " 'forces': 322,\n",
              " 'participate': 323,\n",
              " 'fled': 324,\n",
              " 'successful': 325,\n",
              " 'campaigns': 326,\n",
              " 'them': 327,\n",
              " 'anbar': 328,\n",
              " 'province': 329,\n",
              " 'baghdad': 330,\n",
              " 'provinces': 331,\n",
              " 'largest': 332,\n",
              " 'north': 333,\n",
              " 'long': 334,\n",
              " 'stronghold': 335,\n",
              " 'violence': 336,\n",
              " 'soldier': 337,\n",
              " 'patrol': 338,\n",
              " 'sunday': 339,\n",
              " 'egyptian': 340,\n",
              " 'arrested': 341,\n",
              " '16': 342,\n",
              " 'members': 343,\n",
              " 'opposition': 344,\n",
              " 'muslim': 345,\n",
              " 'brotherhood': 346,\n",
              " 'prepare': 347,\n",
              " 'parliamentary': 348,\n",
              " 'runoff': 349,\n",
              " 'elections': 350,\n",
              " 'saturday': 351,\n",
              " 'arrests': 352,\n",
              " 'friday': 353,\n",
              " 'alexandria': 354,\n",
              " 'spokesman': 355,\n",
              " 'attempt': 356,\n",
              " 'cut': 357,\n",
              " 'off': 358,\n",
              " 'supporters': 359,\n",
              " 'punishment': 360,\n",
              " 'winning': 361,\n",
              " 'seats': 362,\n",
              " 'earlier': 363,\n",
              " 'tripled': 364,\n",
              " 'strength': 365,\n",
              " 'recent': 366,\n",
              " 'raising': 367,\n",
              " 'total': 368,\n",
              " '47': 369,\n",
              " 'voters': 370,\n",
              " 'cast': 371,\n",
              " 'ballots': 372,\n",
              " 'nine': 373,\n",
              " 'no': 374,\n",
              " 'candidate': 375,\n",
              " 'won': 376,\n",
              " 'majority': 377,\n",
              " 'previous': 378,\n",
              " 'round': 379,\n",
              " 'voting': 380,\n",
              " 'banned': 381,\n",
              " 'political': 382,\n",
              " 'but': 383,\n",
              " 'endorses': 384,\n",
              " 'so-called': 385,\n",
              " 'independent': 386,\n",
              " 'candidates': 387,\n",
              " 'whose': 388,\n",
              " 'allegiance': 389,\n",
              " 'known': 390,\n",
              " 'hardline': 391,\n",
              " 'lawmakers': 392,\n",
              " 'pakistan': 393,\n",
              " 'west': 394,\n",
              " 'frontier': 395,\n",
              " 'pushed': 396,\n",
              " 'law': 397,\n",
              " 'aims': 398,\n",
              " 'ensure': 399,\n",
              " 'islamic': 400,\n",
              " 'correctness': 401,\n",
              " 'public': 402,\n",
              " 'places': 403,\n",
              " 'establishes': 404,\n",
              " 'morality': 405,\n",
              " 'enforce': 406,\n",
              " 'decent': 407,\n",
              " 'behavior': 408,\n",
              " 'six-party': 409,\n",
              " 'coalition': 410,\n",
              " 'religious': 411,\n",
              " 'based': 412,\n",
              " 'parties': 413,\n",
              " 'mutahida': 414,\n",
              " 'majlis-e-amal': 415,\n",
              " 'dominates': 416,\n",
              " 'provincial': 417,\n",
              " 'assembly': 418,\n",
              " 'so': 419,\n",
              " 'bill': 420,\n",
              " 'easily': 421,\n",
              " 'passed': 422,\n",
              " 'thursday': 423,\n",
              " 'vote': 424,\n",
              " '68-34': 425,\n",
              " 'governor': 426,\n",
              " 'must': 427,\n",
              " 'still': 428,\n",
              " 'sign': 429,\n",
              " 'before': 430,\n",
              " 'becomes': 431,\n",
              " 'seen': 432,\n",
              " 'only': 433,\n",
              " 'formality': 434,\n",
              " 'proposed': 435,\n",
              " 'calls': 436,\n",
              " 'setting': 437,\n",
              " 'up': 438,\n",
              " 'force': 439,\n",
              " 'make': 440,\n",
              " 'sure': 441,\n",
              " 'adhere': 442,\n",
              " 'values': 443,\n",
              " 'entertainment': 444,\n",
              " 'outlets': 445,\n",
              " 'close': 446,\n",
              " 'weekly': 447,\n",
              " 'prayers': 448,\n",
              " 'violators': 449,\n",
              " 'be': 450,\n",
              " 'jailed': 451,\n",
              " 'six': 452,\n",
              " 'months': 453,\n",
              " 'denounced': 454,\n",
              " 'measure': 455,\n",
              " 'comparing': 456,\n",
              " 'draconian': 457,\n",
              " 'rule': 458,\n",
              " 'former': 459,\n",
              " 'taleban': 460,\n",
              " 'neighboring': 461,\n",
              " 'afghanistan': 462,\n",
              " 'man': 463,\n",
              " 'dressed': 464,\n",
              " 'suicide': 465,\n",
              " 'bomber': 466,\n",
              " 'demonstration': 467,\n",
              " 'publication': 468,\n",
              " 'cartoons': 469,\n",
              " 'depicting': 470,\n",
              " 'islam': 471,\n",
              " 'prophet': 472,\n",
              " 'muhammad': 473,\n",
              " 'bedfordshire': 474,\n",
              " 'omar': 475,\n",
              " 'khayam': 476,\n",
              " 'bedford': 477,\n",
              " 'breaching': 478,\n",
              " 'conditions': 479,\n",
              " 'his': 480,\n",
              " 'parole': 481,\n",
              " 'home': 482,\n",
              " 'office': 483,\n",
              " 'sought': 484,\n",
              " 'investigation': 485,\n",
              " 'he': 486,\n",
              " 'photographed': 487,\n",
              " 'fatigues': 488,\n",
              " 'black': 489,\n",
              " 'cap': 490,\n",
              " 'bulky': 491,\n",
              " 'belt': 492,\n",
              " 'told': 493,\n",
              " 'associated': 494,\n",
              " 'press': 495,\n",
              " 'paroled': 496,\n",
              " 'offender': 497,\n",
              " 'gives': 498,\n",
              " 'cause': 499,\n",
              " 'concern': 500,\n",
              " 'can': 501,\n",
              " 'sent': 502,\n",
              " 'back': 503,\n",
              " 'prison': 504,\n",
              " 'ap': 505,\n",
              " 'also': 506,\n",
              " 'since': 507,\n",
              " 'year': 508,\n",
              " 'serving': 509,\n",
              " 'half': 510,\n",
              " 'six-year': 511,\n",
              " 'sentence': 512,\n",
              " 'drug': 513,\n",
              " 'dealing': 514,\n",
              " 'pakistani': 515,\n",
              " 'unidentified': 516,\n",
              " 'three': 517,\n",
              " 'minister': 518,\n",
              " 'semi-autonomous': 519,\n",
              " 'bordering': 520,\n",
              " 'prominent': 521,\n",
              " 'leader': 522,\n",
              " 'malik': 523,\n",
              " 'faridullah': 524,\n",
              " 'khan': 525,\n",
              " 'traveling': 526,\n",
              " 'south': 527,\n",
              " 'waziristan': 528,\n",
              " 'vehicle': 529,\n",
              " 'ambushed': 530,\n",
              " 'kani': 531,\n",
              " 'wam': 532,\n",
              " 'area': 533,\n",
              " 'driver': 534,\n",
              " 'elder': 535,\n",
              " 'responsibility': 536,\n",
              " 'killings': 537,\n",
              " 'ambush': 538,\n",
              " 'commander': 539,\n",
              " 'army': 540,\n",
              " 'almost': 541,\n",
              " 'completely': 542,\n",
              " 'eliminated': 543,\n",
              " 'became': 544,\n",
              " 'refuge': 545,\n",
              " 'al-qaida': 546,\n",
              " 'ousted': 547,\n",
              " '2001': 548,\n",
              " 'senior': 549,\n",
              " 'says': 550,\n",
              " 'wants': 551,\n",
              " 'what': 552,\n",
              " 'sordid': 553,\n",
              " 'chapter': 554,\n",
              " 'proliferation': 555,\n",
              " 'top': 556,\n",
              " 'scientists': 557,\n",
              " 'behind': 558,\n",
              " 'build': 559,\n",
              " 'civilian': 560,\n",
              " 'ties': 561,\n",
              " 'united': 562,\n",
              " 'states': 563,\n",
              " 'ready': 564,\n",
              " 'scientist': 565,\n",
              " 'abdul': 566,\n",
              " 'qadeer': 567,\n",
              " 'available': 568,\n",
              " 'direct': 569,\n",
              " 'questioning': 570,\n",
              " 'sale': 571,\n",
              " 'secrets': 572,\n",
              " 'libya': 573,\n",
              " 'korea': 574,\n",
              " 'there': 575,\n",
              " 'reasons': 576,\n",
              " 'national': 577,\n",
              " 'sensitivities': 578,\n",
              " 'making': 579,\n",
              " 'him': 580,\n",
              " 'giving': 581,\n",
              " 'background': 582,\n",
              " 'briefing': 583,\n",
              " 'small': 584,\n",
              " 'group': 585,\n",
              " 'reporters': 586,\n",
              " 'washington': 587,\n",
              " 'admitted': 588,\n",
              " '2004': 589,\n",
              " 'operated': 590,\n",
              " 'worldwide': 591,\n",
              " 'clandestine': 592,\n",
              " 'network': 593,\n",
              " 'sell': 594,\n",
              " 'technology': 595,\n",
              " 'market': 596,\n",
              " 'placed': 597,\n",
              " 'under': 598,\n",
              " 'house': 599,\n",
              " 'arrest': 600,\n",
              " 'islamabad': 601,\n",
              " 'because': 602,\n",
              " 'considered': 603,\n",
              " 'father': 604,\n",
              " 'bomb': 605,\n",
              " 'renew': 606,\n",
              " 'controversial': 607,\n",
              " 'multi-billion': 608,\n",
              " 'dollar': 609,\n",
              " 'contract': 610,\n",
              " 'halliburton': 611,\n",
              " 'company': 612,\n",
              " 'provide': 613,\n",
              " 'logistical': 614,\n",
              " 'support': 615,\n",
              " 'providing': 616,\n",
              " 'list': 617,\n",
              " 'meals': 618,\n",
              " 'communication': 619,\n",
              " 'several': 620,\n",
              " 'years': 621,\n",
              " 'critics': 622,\n",
              " 'include': 623,\n",
              " 'auditors': 624,\n",
              " 'congressional': 625,\n",
              " 'democrats': 626,\n",
              " 'produced': 627,\n",
              " 'some': 628,\n",
              " 'shoddy': 629,\n",
              " 'work': 630,\n",
              " 'charges': 631,\n",
              " 'too': 632,\n",
              " 'much': 633,\n",
              " 'money': 634,\n",
              " 'strongly': 635,\n",
              " 'denies': 636,\n",
              " 'allegations': 637,\n",
              " 're-bidding': 638,\n",
              " 'chance': 639,\n",
              " 'compete': 640,\n",
              " 'portions': 641,\n",
              " 'representatives': 642,\n",
              " 'asia': 643,\n",
              " 'pacific': 644,\n",
              " 'economic': 645,\n",
              " 'cooperation': 646,\n",
              " 'business': 647,\n",
              " 'advisory': 648,\n",
              " 'holding': 649,\n",
              " 'meetings': 650,\n",
              " 'finalize': 651,\n",
              " 'report': 652,\n",
              " 'apec': 653,\n",
              " 'leaders': 654,\n",
              " 'summit': 655,\n",
              " 'september': 656,\n",
              " '8': 657,\n",
              " '9': 658,\n",
              " 'voa': 659,\n",
              " 'nancy-amelia': 660,\n",
              " 'collins': 661,\n",
              " 'sydney': 662,\n",
              " 'climate': 663,\n",
              " 'change': 664,\n",
              " 'world': 665,\n",
              " 'trade': 666,\n",
              " 'organization': 667,\n",
              " 'stalled': 668,\n",
              " 'negotiations': 669,\n",
              " 'investment': 670,\n",
              " 'all': 671,\n",
              " 'expected': 672,\n",
              " 'among': 673,\n",
              " 'major': 674,\n",
              " 'topics': 675,\n",
              " 'abac': 676,\n",
              " 'tim': 677,\n",
              " 'harcourt': 678,\n",
              " 'chief': 679,\n",
              " 'economist': 680,\n",
              " 'australian': 681,\n",
              " 'commission': 682,\n",
              " 'plays': 683,\n",
              " 'important': 684,\n",
              " 'role': 685,\n",
              " 'informing': 686,\n",
              " 'governments': 687,\n",
              " 'problems': 688,\n",
              " 'most': 689,\n",
              " 'thing': 690,\n",
              " 'do': 691,\n",
              " 'tell': 692,\n",
              " 'logjams': 693,\n",
              " 'obstacles': 694,\n",
              " 'things': 695,\n",
              " 'improve': 696,\n",
              " 'i': 697,\n",
              " 'think': 698,\n",
              " 'actually': 699,\n",
              " 'played': 700,\n",
              " 'pretty': 701,\n",
              " 'good': 702,\n",
              " 'leadership': 703,\n",
              " 'talking': 704,\n",
              " 'about': 705,\n",
              " 'facilitation': 706,\n",
              " 'basically': 707,\n",
              " 'standards': 708,\n",
              " 'consistent': 709,\n",
              " 'harmonious': 710,\n",
              " 'across': 711,\n",
              " 'comprises': 712,\n",
              " 'private': 713,\n",
              " 'sector': 714,\n",
              " 'each': 715,\n",
              " '21': 716,\n",
              " 'economies': 717,\n",
              " 'meets': 718,\n",
              " 'times': 719,\n",
              " 'made': 720,\n",
              " 'permanent': 721,\n",
              " 'body': 722,\n",
              " '1995': 723,\n",
              " 'perspective': 724,\n",
              " 'within': 725,\n",
              " 'represent': 726,\n",
              " 'range': 727,\n",
              " 'sectors': 728,\n",
              " 'medium': 729,\n",
              " 'businesses': 730,\n",
              " 'need': 731,\n",
              " 'efficiency': 732,\n",
              " 'encourage': 733,\n",
              " 'conservation': 734,\n",
              " 'practices': 735,\n",
              " 'discuss': 736,\n",
              " 'ways': 737,\n",
              " 'enhance': 738,\n",
              " 'regional': 739,\n",
              " 'reckon': 740,\n",
              " \"'ll\": 741,\n",
              " 'talk': 742,\n",
              " 'little': 743,\n",
              " 'bit': 744,\n",
              " 'customs': 745,\n",
              " 'quarantine': 746,\n",
              " 'having': 747,\n",
              " 'arrangements': 748,\n",
              " 'around': 749,\n",
              " 'want': 750,\n",
              " 'one-stop': 751,\n",
              " 'shop': 752,\n",
              " 'terms': 753,\n",
              " 'combining': 754,\n",
              " 'immigration': 755,\n",
              " 'together': 756,\n",
              " '…': 757,\n",
              " 'just': 758,\n",
              " 'streamlined': 759,\n",
              " 'provides': 760,\n",
              " 'certainty': 761,\n",
              " 'non-governmental': 762,\n",
              " 'formal': 763,\n",
              " 'dialogue': 764,\n",
              " 'present': 765,\n",
              " 'meeting': 766,\n",
              " 'sudan': 767,\n",
              " 'order': 768,\n",
              " 'darfur': 769,\n",
              " 'asking': 770,\n",
              " 'same': 771,\n",
              " 'foreign': 772,\n",
              " 'mustafa': 773,\n",
              " 'osman': 774,\n",
              " 'ismail': 775,\n",
              " 'sudanese': 776,\n",
              " 'withdraw': 777,\n",
              " 'positions': 778,\n",
              " 'held': 779,\n",
              " 'april': 780,\n",
              " 'cease-fire': 781,\n",
              " 'western': 782,\n",
              " 'agree': 783,\n",
              " 'mr.': 784,\n",
              " 'announced': 785,\n",
              " 'decision': 786,\n",
              " 'nations': 787,\n",
              " 'african': 788,\n",
              " 'khartoum': 789,\n",
              " 'weeks': 790,\n",
              " 'au': 791,\n",
              " 'repeatedly': 792,\n",
              " 'truce': 793,\n",
              " 'head': 794,\n",
              " 'accused': 795,\n",
              " 'helicopters': 796,\n",
              " 'bombing': 797,\n",
              " 'rebel': 798,\n",
              " 'sites': 799,\n",
              " 'village': 800,\n",
              " 'labado': 801,\n",
              " 'defending': 802,\n",
              " 'aid': 803,\n",
              " 'relief': 804,\n",
              " 'efforts': 805,\n",
              " 'suspended': 806,\n",
              " 'due': 807,\n",
              " 'indonesian': 808,\n",
              " 'men': 809,\n",
              " 'connection': 810,\n",
              " 'october': 811,\n",
              " '1': 812,\n",
              " 'bali': 813,\n",
              " 'left': 814,\n",
              " '23': 815,\n",
              " 'dead': 816,\n",
              " 'flown': 817,\n",
              " 'java': 818,\n",
              " 'island': 819,\n",
              " 'headquarters': 820,\n",
              " 'french': 821,\n",
              " 'agencies': 822,\n",
              " '(': 823,\n",
              " 'cholily': 824,\n",
              " ')': 825,\n",
              " 'captured': 826,\n",
              " 'series': 827,\n",
              " 'counter-terrorism': 828,\n",
              " 'raids': 829,\n",
              " 'indonesia': 830,\n",
              " 'ended': 831,\n",
              " 'death': 832,\n",
              " 'alleged': 833,\n",
              " 'extremist': 834,\n",
              " 'bombmaker': 835,\n",
              " 'azahari': 836,\n",
              " 'bin': 837,\n",
              " 'husin': 838,\n",
              " 'authorities': 839,\n",
              " 'blame': 840,\n",
              " 'orchestrating': 841,\n",
              " 'month': 842,\n",
              " 'well': 843,\n",
              " '2002': 844,\n",
              " 'shot': 845,\n",
              " 'roman': 846,\n",
              " 'catholic': 847,\n",
              " 'nun': 848,\n",
              " 'her': 849,\n",
              " 'bodyguard': 850,\n",
              " 'hospital': 851,\n",
              " 'she': 852,\n",
              " 'worked': 853,\n",
              " 'islamist-controlled': 854,\n",
              " 'witnesses': 855,\n",
              " 'shooting': 856,\n",
              " 'feared': 857,\n",
              " 'linked': 858,\n",
              " 'anger': 859,\n",
              " 'toward': 860,\n",
              " 'pope': 861,\n",
              " 'benedict': 862,\n",
              " 'pistols': 863,\n",
              " 'attacked': 864,\n",
              " 'sister': 865,\n",
              " 'leonella': 866,\n",
              " 'sgorbati': 867,\n",
              " 'finished': 868,\n",
              " 'teaching': 869,\n",
              " 'medical': 870,\n",
              " 'school': 871,\n",
              " 'class': 872,\n",
              " 'suspect': 873,\n",
              " 'vatican': 874,\n",
              " 'deplored': 875,\n",
              " 'hoped': 876,\n",
              " 'isolated': 877,\n",
              " 'event': 878,\n",
              " 'irrationality': 879,\n",
              " 'arising': 880,\n",
              " 'comments': 881,\n",
              " 'angered': 882,\n",
              " 'muslims': 883,\n",
              " 'determined': 884,\n",
              " 'motive': 885,\n",
              " 'meant': 886,\n",
              " 'offense': 887,\n",
              " 'quoted': 888,\n",
              " '14': 889,\n",
              " 'century': 890,\n",
              " 'byzantine': 891,\n",
              " 'emperor': 892,\n",
              " 'saying': 893,\n",
              " 'teachings': 894,\n",
              " 'muhammed': 895,\n",
              " 'brought': 896,\n",
              " 'evil': 897,\n",
              " 'targeted': 898,\n",
              " 'northwest': 899,\n",
              " 'third': 900,\n",
              " 'launching': 901,\n",
              " 'airstrikes': 902,\n",
              " 'insurgents': 903,\n",
              " 'helicopter': 904,\n",
              " 'gunships': 905,\n",
              " 'pounded': 906,\n",
              " 'hideouts': 907,\n",
              " 'orakzai': 908,\n",
              " 'taliban': 909,\n",
              " 'believed': 910,\n",
              " 'avoid': 911,\n",
              " 'nearby': 912,\n",
              " 'launched': 913,\n",
              " 'hunt': 914,\n",
              " 'far': 915,\n",
              " 'nearly': 916,\n",
              " '100': 917,\n",
              " 'reported': 918,\n",
              " 'dozens': 919,\n",
              " 'stormed': 920,\n",
              " 'checkpoint': 921,\n",
              " '32': 922,\n",
              " 'counter-attack': 923,\n",
              " 'found': 924,\n",
              " 'bodies': 925,\n",
              " 'had': 926,\n",
              " 'kurram': 927,\n",
              " 'along': 928,\n",
              " 'afghan': 929,\n",
              " 'border': 930,\n",
              " 'few': 931,\n",
              " 'days': 932,\n",
              " 'ago': 933,\n",
              " 'separate': 934,\n",
              " 'clashes': 935,\n",
              " '13': 936,\n",
              " 'guerrillas': 937,\n",
              " 'encounters': 938,\n",
              " 'central': 939,\n",
              " 'uruzgan': 940,\n",
              " 'others': 941,\n",
              " 'injured': 942,\n",
              " 'fighting': 943,\n",
              " 'another': 944,\n",
              " 'eastern': 945,\n",
              " 'paktika': 946,\n",
              " 'separately': 947,\n",
              " 'nato-led': 948,\n",
              " 'peacekeeping': 949,\n",
              " 'mission': 950,\n",
              " 'early': 951,\n",
              " 'mazar-e-sharif': 952,\n",
              " 'motivated': 953,\n",
              " 'spared': 954,\n",
              " 'bloodshed': 955,\n",
              " 'plagued': 956,\n",
              " 'regions': 957,\n",
              " 'russian': 958,\n",
              " 'died': 959,\n",
              " 'wave': 960,\n",
              " 'extremely': 961,\n",
              " 'cold': 962,\n",
              " 'weather': 963,\n",
              " 'gripping': 964,\n",
              " 'bringing': 965,\n",
              " 'toll': 966,\n",
              " '43': 967,\n",
              " 'past': 968,\n",
              " 'emergency': 969,\n",
              " 'victims': 970,\n",
              " 'moscow': 971,\n",
              " 'exposure': 972,\n",
              " '19': 973,\n",
              " 'hospitalized': 974,\n",
              " 'hypothermia': 975,\n",
              " 'russia': 976,\n",
              " 'itar-tass': 977,\n",
              " 'quotes': 978,\n",
              " 'intoxicated': 979,\n",
              " 'homeless': 980,\n",
              " 'unusually': 981,\n",
              " 'affecting': 982,\n",
              " 'baltic': 983,\n",
              " 'lithuania': 984,\n",
              " 'latvia': 985,\n",
              " 'estonia': 986,\n",
              " 'moving': 987,\n",
              " 'into': 988,\n",
              " 'nordic': 989,\n",
              " 'countries': 990,\n",
              " 'rise': 991,\n",
              " 'temperatures': 992,\n",
              " 'continue': 993,\n",
              " 'hover': 994,\n",
              " 'minus': 995,\n",
              " '30': 996,\n",
              " 'degrees': 997,\n",
              " 'celsius': 998,\n",
              " 'lower': 999,\n",
              " 'overnight': 1000,\n",
              " 'power': 1001,\n",
              " ...}"
            ]
          },
          "metadata": {
            "tags": []
          },
          "execution_count": 58
        }
      ]
    },
    {
      "cell_type": "code",
      "metadata": {
        "id": "8bsYRrisrFhL"
      },
      "source": [
        "v['<unk>']=1"
      ],
      "execution_count": null,
      "outputs": []
    },
    {
      "cell_type": "code",
      "metadata": {
        "id": "QOpIHYj7sdDQ"
      },
      "source": [
        "x=[]\n",
        "for i in l:\n",
        "  p=i.split()\n",
        "  k=[]\n",
        "  for j in p:\n",
        "    k.append(v[j])\n",
        "  x.append(k)"
      ],
      "execution_count": null,
      "outputs": []
    },
    {
      "cell_type": "code",
      "metadata": {
        "colab": {
          "base_uri": "https://localhost:8080/"
        },
        "id": "J8tYpqCKt-qi",
        "outputId": "4bb9165a-8a31-4257-b04c-7bc9ee88a3f4"
      },
      "source": [
        "c=0\n",
        "for i in x:\n",
        "  if(len(i)>c):\n",
        "    c=len(i)\n",
        "print(c)"
      ],
      "execution_count": null,
      "outputs": [
        {
          "output_type": "stream",
          "text": [
            "104\n"
          ],
          "name": "stdout"
        }
      ]
    },
    {
      "cell_type": "code",
      "metadata": {
        "id": "qHpAx_qqueBs"
      },
      "source": [
        "xt=[]\n",
        "for i in x:\n",
        "  c=len(i)\n",
        "  p=[0]*(104-c)\n",
        "  p=i+p\n",
        "  xt.append(p)"
      ],
      "execution_count": null,
      "outputs": []
    },
    {
      "cell_type": "code",
      "metadata": {
        "id": "6prEaa4mxTGB"
      },
      "source": [
        "d1={}\n",
        "for i in d:\n",
        "  p=i.lower()\n",
        "  d1[p]=d[i]"
      ],
      "execution_count": null,
      "outputs": []
    },
    {
      "cell_type": "code",
      "metadata": {
        "id": "ge8cTWRgwKp3"
      },
      "source": [
        "y=[]\n",
        "for i in l1:\n",
        "  p=i.split()\n",
        "  k=[]\n",
        "  for j in p:\n",
        "    k.append(d1[j])\n",
        "  y.append(k)"
      ],
      "execution_count": null,
      "outputs": []
    },
    {
      "cell_type": "code",
      "metadata": {
        "id": "v43eznWRxh9i"
      },
      "source": [
        "yt=[]\n",
        "for i in y:\n",
        "  c=len(i)\n",
        "  p=[0]*(104-c)\n",
        "  p=i+p\n",
        "  yt.append(p)"
      ],
      "execution_count": null,
      "outputs": []
    },
    {
      "cell_type": "code",
      "metadata": {
        "colab": {
          "base_uri": "https://localhost:8080/"
        },
        "id": "7U-4YVBGxtSM",
        "outputId": "52c14927-99ba-43f1-d63e-eca2e186a233"
      },
      "source": [
        "len(yt[0])"
      ],
      "execution_count": null,
      "outputs": [
        {
          "output_type": "execute_result",
          "data": {
            "text/plain": [
              "104"
            ]
          },
          "metadata": {
            "tags": []
          },
          "execution_count": 88
        }
      ]
    },
    {
      "cell_type": "code",
      "metadata": {
        "id": "ghxRFdu6x5g2"
      },
      "source": [
        "import numpy as np\n",
        "yt1=np.array(yt)\n",
        "xt1=np.array(xt)"
      ],
      "execution_count": null,
      "outputs": []
    },
    {
      "cell_type": "code",
      "metadata": {
        "colab": {
          "base_uri": "https://localhost:8080/"
        },
        "id": "K_y12XJ7zhsx",
        "outputId": "11821716-25b6-4f5e-95f1-aa6d7c77843f"
      },
      "source": [
        "yt1.shape"
      ],
      "execution_count": null,
      "outputs": [
        {
          "output_type": "execute_result",
          "data": {
            "text/plain": [
              "(33570, 104)"
            ]
          },
          "metadata": {
            "tags": []
          },
          "execution_count": 93
        }
      ]
    },
    {
      "cell_type": "code",
      "metadata": {
        "id": "SlHd0WX2zvKE"
      },
      "source": [
        "gl={}\n",
        "with open('/content/contentgrive/MyDrive/glove.6B.50d.txt',encoding='utf8') as f:\n",
        "    for i in f:\n",
        "        c=i.split()\n",
        "        word = c[0]\n",
        "        coefs = np.asarray(c[1:],dtype='float32')\n",
        "        gl[word] = coefs"
      ],
      "execution_count": null,
      "outputs": []
    },
    {
      "cell_type": "code",
      "metadata": {
        "colab": {
          "base_uri": "https://localhost:8080/"
        },
        "id": "omH52nKs0h4Z",
        "outputId": "ff0ef9b5-0315-473b-9d7f-bac7776ca8a9"
      },
      "source": [
        "len(v)"
      ],
      "execution_count": null,
      "outputs": [
        {
          "output_type": "execute_result",
          "data": {
            "text/plain": [
              "27085"
            ]
          },
          "metadata": {
            "tags": []
          },
          "execution_count": 96
        }
      ]
    },
    {
      "cell_type": "code",
      "metadata": {
        "id": "TBQTPQOT0tjN"
      },
      "source": [
        "vocab_size=len(v)+1\n",
        "embedding_matrix = np.zeros((vocab_size, 50))\n",
        "for word, i in v.items():\n",
        "    k = gl.get(word)\n",
        "    if k is not None:\n",
        "        embedding_matrix[i] = k"
      ],
      "execution_count": null,
      "outputs": []
    },
    {
      "cell_type": "code",
      "metadata": {
        "colab": {
          "base_uri": "https://localhost:8080/"
        },
        "id": "3nfkC6XH1UJH",
        "outputId": "ab9c24c2-de53-4915-fd24-7f86532c76a2"
      },
      "source": [
        "embedding_matrix[27085]"
      ],
      "execution_count": null,
      "outputs": [
        {
          "output_type": "execute_result",
          "data": {
            "text/plain": [
              "array([-0.54789001,  0.22273999,  0.43847999, -0.53195   , -0.56094003,\n",
              "        0.76401001, -0.58942002,  0.58081001, -0.13298   ,  0.1587    ,\n",
              "        0.28628001,  0.85623002,  0.53546   ,  1.21700001, -0.63268   ,\n",
              "       -0.76012999, -0.046063  ,  0.22495   ,  0.37338999, -0.65147001,\n",
              "       -0.089261  , -0.024264  , -0.50479001,  0.11448   ,  0.53966999,\n",
              "        0.57941002,  0.12707999, -0.32556   , -0.17595001, -0.48427001,\n",
              "        1.03129995,  0.15900999,  0.42317   , -0.38936001,  0.83341998,\n",
              "        1.89820004,  1.16649997, -0.24913   , -0.46661001, -0.28455999,\n",
              "        0.27177   ,  0.44957   , -0.93518001, -0.59386998, -0.60367   ,\n",
              "       -0.74763   ,  0.42484   , -0.17470001, -0.22725999,  0.33063   ])"
            ]
          },
          "metadata": {
            "tags": []
          },
          "execution_count": 102
        }
      ]
    },
    {
      "cell_type": "code",
      "metadata": {
        "colab": {
          "base_uri": "https://localhost:8080/"
        },
        "id": "-2uocpWX3ShK",
        "outputId": "211721f3-ac04-4781-df31-404c7c00217f"
      },
      "source": [
        "len(d1)"
      ],
      "execution_count": null,
      "outputs": [
        {
          "output_type": "execute_result",
          "data": {
            "text/plain": [
              "17"
            ]
          },
          "metadata": {
            "tags": []
          },
          "execution_count": 105
        }
      ]
    },
    {
      "cell_type": "code",
      "metadata": {
        "id": "ALwh2-Du18uq"
      },
      "source": [
        "import tensorflow\n",
        "from tensorflow.compat.v1.keras.layers import CuDNNLSTM"
      ],
      "execution_count": null,
      "outputs": []
    },
    {
      "cell_type": "code",
      "metadata": {
        "id": "YMAZ5FwI1WJO"
      },
      "source": [
        "from keras.models import Sequential\n",
        "from keras.layers import Bidirectional,Embedding,Dense,LSTM\n",
        "import keras\n",
        "m=Sequential([\n",
        "       Embedding(vocab_size,50,weights=[embedding_matrix],trainable=False,input_length=104),\n",
        "       LSTM(64,return_sequences=True),\n",
        "       Dense(18,activation='softmax')       \n",
        "])\n",
        "m.compile(optimizer=keras.optimizers.Adam(learning_rate=0.01),loss='sparse_categorical_crossentropy',metrics=['accuracy'])"
      ],
      "execution_count": null,
      "outputs": []
    },
    {
      "cell_type": "code",
      "metadata": {
        "colab": {
          "base_uri": "https://localhost:8080/"
        },
        "id": "SowUpHLF34Yz",
        "outputId": "a2aa31b4-f988-4b7e-9713-bd6d6013c36b"
      },
      "source": [
        "m.fit(xt1,yt1,batch_size=64,epochs=5,verbose=2)"
      ],
      "execution_count": null,
      "outputs": [
        {
          "output_type": "stream",
          "text": [
            "Epoch 1/5\n",
            "525/525 - 33s - loss: 0.0829 - accuracy: 0.9808\n",
            "Epoch 2/5\n",
            "525/525 - 31s - loss: 0.0389 - accuracy: 0.9888\n",
            "Epoch 3/5\n",
            "525/525 - 31s - loss: 0.0348 - accuracy: 0.9897\n",
            "Epoch 4/5\n",
            "525/525 - 31s - loss: 0.0325 - accuracy: 0.9902\n",
            "Epoch 5/5\n",
            "525/525 - 31s - loss: 0.0310 - accuracy: 0.9905\n"
          ],
          "name": "stdout"
        },
        {
          "output_type": "execute_result",
          "data": {
            "text/plain": [
              "<tensorflow.python.keras.callbacks.History at 0x7f0831c37190>"
            ]
          },
          "metadata": {
            "tags": []
          },
          "execution_count": 110
        }
      ]
    },
    {
      "cell_type": "code",
      "metadata": {
        "id": "HHx_lNKD4LDp"
      },
      "source": [
        "c=xt1[0]\n",
        "c1=yt1[0]"
      ],
      "execution_count": null,
      "outputs": []
    },
    {
      "cell_type": "code",
      "metadata": {
        "id": "9UxsHwIo4_zF"
      },
      "source": [
        "k=m.predict(np.array([c]))"
      ],
      "execution_count": null,
      "outputs": []
    },
    {
      "cell_type": "code",
      "metadata": {
        "colab": {
          "base_uri": "https://localhost:8080/"
        },
        "id": "p2qCipyw5I-2",
        "outputId": "4aab9763-37b0-4797-ea61-a154168823c3"
      },
      "source": [
        "k.shape"
      ],
      "execution_count": null,
      "outputs": [
        {
          "output_type": "execute_result",
          "data": {
            "text/plain": [
              "(1, 104, 18)"
            ]
          },
          "metadata": {
            "tags": []
          },
          "execution_count": 116
        }
      ]
    },
    {
      "cell_type": "code",
      "metadata": {
        "colab": {
          "base_uri": "https://localhost:8080/"
        },
        "id": "Lma0H5VZ5VuC",
        "outputId": "1d7346de-2d22-446f-f048-fa78087ee836"
      },
      "source": [
        "c1.shape"
      ],
      "execution_count": null,
      "outputs": [
        {
          "output_type": "execute_result",
          "data": {
            "text/plain": [
              "(104,)"
            ]
          },
          "metadata": {
            "tags": []
          },
          "execution_count": 117
        }
      ]
    },
    {
      "cell_type": "code",
      "metadata": {
        "id": "PPM5kPkd5X-M"
      },
      "source": [
        "k1=np.argmax(k,axis=2)"
      ],
      "execution_count": null,
      "outputs": []
    },
    {
      "cell_type": "code",
      "metadata": {
        "colab": {
          "base_uri": "https://localhost:8080/"
        },
        "id": "J6vPytEz5f5l",
        "outputId": "3ddbc0e1-5f59-4319-8b08-0b309ce1486d"
      },
      "source": [
        "k1"
      ],
      "execution_count": null,
      "outputs": [
        {
          "output_type": "execute_result",
          "data": {
            "text/plain": [
              "array([[1, 1, 1, 1, 1, 1, 2, 1, 1, 1, 1, 1, 2, 1, 1, 1, 1, 1, 3, 1, 1, 1,\n",
              "        1, 1, 0, 0, 0, 0, 0, 0, 0, 0, 0, 0, 0, 0, 0, 0, 0, 0, 0, 0, 0, 0,\n",
              "        0, 0, 0, 0, 0, 0, 0, 0, 0, 0, 0, 0, 0, 0, 0, 0, 0, 0, 0, 0, 0, 0,\n",
              "        0, 0, 0, 0, 0, 0, 0, 0, 0, 0, 0, 0, 0, 0, 0, 0, 0, 0, 0, 0, 0, 0,\n",
              "        0, 0, 0, 0, 0, 0, 0, 0, 0, 0, 0, 0, 0, 0, 0, 0]])"
            ]
          },
          "metadata": {
            "tags": []
          },
          "execution_count": 119
        }
      ]
    },
    {
      "cell_type": "code",
      "metadata": {
        "colab": {
          "base_uri": "https://localhost:8080/"
        },
        "id": "N5rGKMmE5hLG",
        "outputId": "f56ec750-a897-4dce-e7fd-d314982e1f1a"
      },
      "source": [
        "c1"
      ],
      "execution_count": null,
      "outputs": [
        {
          "output_type": "execute_result",
          "data": {
            "text/plain": [
              "array([1, 1, 1, 1, 1, 1, 2, 1, 1, 1, 1, 1, 2, 1, 1, 1, 1, 1, 3, 1, 1, 1,\n",
              "       1, 1, 0, 0, 0, 0, 0, 0, 0, 0, 0, 0, 0, 0, 0, 0, 0, 0, 0, 0, 0, 0,\n",
              "       0, 0, 0, 0, 0, 0, 0, 0, 0, 0, 0, 0, 0, 0, 0, 0, 0, 0, 0, 0, 0, 0,\n",
              "       0, 0, 0, 0, 0, 0, 0, 0, 0, 0, 0, 0, 0, 0, 0, 0, 0, 0, 0, 0, 0, 0,\n",
              "       0, 0, 0, 0, 0, 0, 0, 0, 0, 0, 0, 0, 0, 0, 0, 0])"
            ]
          },
          "metadata": {
            "tags": []
          },
          "execution_count": 120
        }
      ]
    },
    {
      "cell_type": "code",
      "metadata": {
        "id": "ueRICHaz5jJP"
      },
      "source": [
        "m.save('Name recognition.h5')"
      ],
      "execution_count": null,
      "outputs": []
    },
    {
      "cell_type": "code",
      "metadata": {
        "id": "O30EBklm5u5T"
      },
      "source": [
        "def preprocess(s):\n",
        "  s=s.lower()\n",
        "  p=s.split()\n",
        "  ar=[]\n",
        "  for i in p:\n",
        "    if(i in v):\n",
        "      ar.append(v[i])\n",
        "    else:\n",
        "      ar.append(v['<unk>'])\n",
        "  arlen=len(ar)\n",
        "  ar=ar+[0]*(104-arlen)\n",
        "  return np.array(ar)"
      ],
      "execution_count": null,
      "outputs": []
    },
    {
      "cell_type": "code",
      "metadata": {
        "id": "RmZyNb597Vbo"
      },
      "source": [
        "c=preprocess(\"arun kumar and pawan is in england this monday\")\n",
        "k=m.predict(np.array([c]))\n",
        "k=np.argmax(k,axis=2)"
      ],
      "execution_count": null,
      "outputs": []
    },
    {
      "cell_type": "code",
      "metadata": {
        "colab": {
          "base_uri": "https://localhost:8080/"
        },
        "id": "in9XQoK97tWq",
        "outputId": "1bbc2573-c10f-4a57-d50b-889da5b3ca35"
      },
      "source": [
        "k"
      ],
      "execution_count": null,
      "outputs": [
        {
          "output_type": "execute_result",
          "data": {
            "text/plain": [
              "array([[ 4,  4,  1,  4,  1,  1,  2,  1,  8, 13,  0,  0,  0,  0,  0,  0,\n",
              "         0,  0,  0,  0,  0,  0,  0,  0,  0,  0,  0,  0,  0,  0,  0,  0,\n",
              "         0,  0,  0,  0,  0,  0,  0,  0,  0,  0,  0,  0,  0,  0,  0,  0,\n",
              "         0,  0,  0,  0,  0,  0,  0,  0,  0,  0,  0,  0,  0,  0,  0,  0,\n",
              "         0,  0,  0,  0,  0,  0,  0,  0,  0,  0,  0,  0,  0,  0,  0,  0,\n",
              "         0,  0,  0,  0,  0,  0,  0,  0,  0,  0,  0,  0,  0,  0,  0,  0,\n",
              "         0,  0,  0,  0,  0,  0,  0,  0]])"
            ]
          },
          "metadata": {
            "tags": []
          },
          "execution_count": 150
        }
      ]
    },
    {
      "cell_type": "code",
      "metadata": {
        "colab": {
          "base_uri": "https://localhost:8080/"
        },
        "id": "ogKioz2e7uRS",
        "outputId": "2aef4102-4186-439c-adca-bbfac982734c"
      },
      "source": [
        "d1"
      ],
      "execution_count": null,
      "outputs": [
        {
          "output_type": "execute_result",
          "data": {
            "text/plain": [
              "{'b-art': 9,\n",
              " 'b-eve': 15,\n",
              " 'b-geo': 2,\n",
              " 'b-gpe': 3,\n",
              " 'b-nat': 14,\n",
              " 'b-org': 6,\n",
              " 'b-per': 4,\n",
              " 'b-tim': 8,\n",
              " 'i-art': 10,\n",
              " 'i-eve': 16,\n",
              " 'i-geo': 5,\n",
              " 'i-gpe': 12,\n",
              " 'i-nat': 17,\n",
              " 'i-org': 7,\n",
              " 'i-per': 11,\n",
              " 'i-tim': 13,\n",
              " 'o': 1}"
            ]
          },
          "metadata": {
            "tags": []
          },
          "execution_count": 126
        }
      ]
    },
    {
      "cell_type": "code",
      "metadata": {
        "id": "MiPSX83W72oJ"
      },
      "source": [
        ""
      ],
      "execution_count": null,
      "outputs": []
    }
  ]
}